{
 "cells": [
  {
   "cell_type": "code",
   "execution_count": 5,
   "id": "38054c86-bf12-4742-a61a-3508d2064487",
   "metadata": {},
   "outputs": [],
   "source": [
    "import pandas as pd"
   ]
  },
  {
   "cell_type": "code",
   "execution_count": 7,
   "id": "8f4617cf-220a-4361-9db6-3dd798dca5b5",
   "metadata": {},
   "outputs": [],
   "source": [
    "df = pd.read_csv(r\"C:\\Users\\user\\Downloads\\Students Social Media Addiction.csv\")"
   ]
  },
  {
   "cell_type": "code",
   "execution_count": 9,
   "id": "5ee0c28a-efaf-484b-9362-72b978117b88",
   "metadata": {},
   "outputs": [
    {
     "data": {
      "text/html": [
       "<div>\n",
       "<style scoped>\n",
       "    .dataframe tbody tr th:only-of-type {\n",
       "        vertical-align: middle;\n",
       "    }\n",
       "\n",
       "    .dataframe tbody tr th {\n",
       "        vertical-align: top;\n",
       "    }\n",
       "\n",
       "    .dataframe thead th {\n",
       "        text-align: right;\n",
       "    }\n",
       "</style>\n",
       "<table border=\"1\" class=\"dataframe\">\n",
       "  <thead>\n",
       "    <tr style=\"text-align: right;\">\n",
       "      <th></th>\n",
       "      <th>Student_ID</th>\n",
       "      <th>Age</th>\n",
       "      <th>Gender</th>\n",
       "      <th>Academic_Level</th>\n",
       "      <th>Country</th>\n",
       "      <th>Avg_Daily_Usage_Hours</th>\n",
       "      <th>Most_Used_Platform</th>\n",
       "      <th>Affects_Academic_Performance</th>\n",
       "      <th>Sleep_Hours_Per_Night</th>\n",
       "      <th>Mental_Health_Score</th>\n",
       "      <th>Relationship_Status</th>\n",
       "      <th>Conflicts_Over_Social_Media</th>\n",
       "      <th>Addicted_Score</th>\n",
       "    </tr>\n",
       "  </thead>\n",
       "  <tbody>\n",
       "    <tr>\n",
       "      <th>0</th>\n",
       "      <td>1</td>\n",
       "      <td>19</td>\n",
       "      <td>Female</td>\n",
       "      <td>Undergraduate</td>\n",
       "      <td>Bangladesh</td>\n",
       "      <td>5.2</td>\n",
       "      <td>Instagram</td>\n",
       "      <td>Yes</td>\n",
       "      <td>6.5</td>\n",
       "      <td>6</td>\n",
       "      <td>In Relationship</td>\n",
       "      <td>3</td>\n",
       "      <td>8</td>\n",
       "    </tr>\n",
       "    <tr>\n",
       "      <th>1</th>\n",
       "      <td>2</td>\n",
       "      <td>22</td>\n",
       "      <td>Male</td>\n",
       "      <td>Graduate</td>\n",
       "      <td>India</td>\n",
       "      <td>2.1</td>\n",
       "      <td>Twitter</td>\n",
       "      <td>No</td>\n",
       "      <td>7.5</td>\n",
       "      <td>8</td>\n",
       "      <td>Single</td>\n",
       "      <td>0</td>\n",
       "      <td>3</td>\n",
       "    </tr>\n",
       "    <tr>\n",
       "      <th>2</th>\n",
       "      <td>3</td>\n",
       "      <td>20</td>\n",
       "      <td>Female</td>\n",
       "      <td>Undergraduate</td>\n",
       "      <td>USA</td>\n",
       "      <td>6.0</td>\n",
       "      <td>TikTok</td>\n",
       "      <td>Yes</td>\n",
       "      <td>5.0</td>\n",
       "      <td>5</td>\n",
       "      <td>Complicated</td>\n",
       "      <td>4</td>\n",
       "      <td>9</td>\n",
       "    </tr>\n",
       "    <tr>\n",
       "      <th>3</th>\n",
       "      <td>4</td>\n",
       "      <td>18</td>\n",
       "      <td>Male</td>\n",
       "      <td>High School</td>\n",
       "      <td>UK</td>\n",
       "      <td>3.0</td>\n",
       "      <td>YouTube</td>\n",
       "      <td>No</td>\n",
       "      <td>7.0</td>\n",
       "      <td>7</td>\n",
       "      <td>Single</td>\n",
       "      <td>1</td>\n",
       "      <td>4</td>\n",
       "    </tr>\n",
       "    <tr>\n",
       "      <th>4</th>\n",
       "      <td>5</td>\n",
       "      <td>21</td>\n",
       "      <td>Male</td>\n",
       "      <td>Graduate</td>\n",
       "      <td>Canada</td>\n",
       "      <td>4.5</td>\n",
       "      <td>Facebook</td>\n",
       "      <td>Yes</td>\n",
       "      <td>6.0</td>\n",
       "      <td>6</td>\n",
       "      <td>In Relationship</td>\n",
       "      <td>2</td>\n",
       "      <td>7</td>\n",
       "    </tr>\n",
       "  </tbody>\n",
       "</table>\n",
       "</div>"
      ],
      "text/plain": [
       "   Student_ID  Age  Gender Academic_Level     Country  Avg_Daily_Usage_Hours  \\\n",
       "0           1   19  Female  Undergraduate  Bangladesh                    5.2   \n",
       "1           2   22    Male       Graduate       India                    2.1   \n",
       "2           3   20  Female  Undergraduate         USA                    6.0   \n",
       "3           4   18    Male    High School          UK                    3.0   \n",
       "4           5   21    Male       Graduate      Canada                    4.5   \n",
       "\n",
       "  Most_Used_Platform Affects_Academic_Performance  Sleep_Hours_Per_Night  \\\n",
       "0          Instagram                          Yes                    6.5   \n",
       "1            Twitter                           No                    7.5   \n",
       "2             TikTok                          Yes                    5.0   \n",
       "3            YouTube                           No                    7.0   \n",
       "4           Facebook                          Yes                    6.0   \n",
       "\n",
       "   Mental_Health_Score Relationship_Status  Conflicts_Over_Social_Media  \\\n",
       "0                    6     In Relationship                            3   \n",
       "1                    8              Single                            0   \n",
       "2                    5         Complicated                            4   \n",
       "3                    7              Single                            1   \n",
       "4                    6     In Relationship                            2   \n",
       "\n",
       "   Addicted_Score  \n",
       "0               8  \n",
       "1               3  \n",
       "2               9  \n",
       "3               4  \n",
       "4               7  "
      ]
     },
     "execution_count": 9,
     "metadata": {},
     "output_type": "execute_result"
    }
   ],
   "source": [
    "df.head(5)"
   ]
  },
  {
   "cell_type": "code",
   "execution_count": 11,
   "id": "f3a5ee45-266e-4339-af99-d03fec577bce",
   "metadata": {},
   "outputs": [
    {
     "data": {
      "text/plain": [
       "Index(['Student_ID', 'Age', 'Gender', 'Academic_Level', 'Country',\n",
       "       'Avg_Daily_Usage_Hours', 'Most_Used_Platform',\n",
       "       'Affects_Academic_Performance', 'Sleep_Hours_Per_Night',\n",
       "       'Mental_Health_Score', 'Relationship_Status',\n",
       "       'Conflicts_Over_Social_Media', 'Addicted_Score'],\n",
       "      dtype='object')"
      ]
     },
     "execution_count": 11,
     "metadata": {},
     "output_type": "execute_result"
    }
   ],
   "source": [
    "df.columns"
   ]
  },
  {
   "cell_type": "code",
   "execution_count": 13,
   "id": "c287e082-c45a-4626-8a50-9ebc617e0c17",
   "metadata": {},
   "outputs": [
    {
     "data": {
      "text/plain": [
       "Student_ID                      0\n",
       "Age                             0\n",
       "Gender                          0\n",
       "Academic_Level                  0\n",
       "Country                         0\n",
       "Avg_Daily_Usage_Hours           0\n",
       "Most_Used_Platform              0\n",
       "Affects_Academic_Performance    0\n",
       "Sleep_Hours_Per_Night           0\n",
       "Mental_Health_Score             0\n",
       "Relationship_Status             0\n",
       "Conflicts_Over_Social_Media     0\n",
       "Addicted_Score                  0\n",
       "dtype: int64"
      ]
     },
     "execution_count": 13,
     "metadata": {},
     "output_type": "execute_result"
    }
   ],
   "source": [
    "df.isnull().sum()"
   ]
  },
  {
   "cell_type": "code",
   "execution_count": 15,
   "id": "24b9eb0c-23bf-4b9c-a737-1b6cf9456084",
   "metadata": {},
   "outputs": [
    {
     "name": "stdout",
     "output_type": "stream",
     "text": [
      "Age\n",
      "18    7.785714\n",
      "19    6.650307\n",
      "21    6.589744\n",
      "20    6.478788\n",
      "24    6.115385\n",
      "Name: Addicted_Score, dtype: float64\n"
     ]
    }
   ],
   "source": [
    "age_addiction = df.groupby(\"Age\")['Addicted_Score'].mean().sort_values(ascending=False)\n",
    "print(age_addiction.head())\n"
   ]
  },
  {
   "cell_type": "code",
   "execution_count": 17,
   "id": "46119589-d446-46a0-acce-a5cfdb83bbb8",
   "metadata": {},
   "outputs": [
    {
     "name": "stdout",
     "output_type": "stream",
     "text": [
      "Most_Used_Platform\n",
      "WhatsApp     7.462963\n",
      "Snapchat     7.461538\n",
      "TikTok       7.428571\n",
      "Instagram    6.554217\n",
      "YouTube      6.100000\n",
      "WeChat       6.066667\n",
      "KakaoTalk    6.000000\n",
      "Facebook     5.666667\n",
      "Twitter      5.500000\n",
      "VKontakte    5.000000\n",
      "LinkedIn     3.809524\n",
      "LINE         3.000000\n",
      "Name: Addicted_Score, dtype: float64\n"
     ]
    }
   ],
   "source": [
    "platform_addiction = df.groupby(\"Most_Used_Platform\")['Addicted_Score'].mean().sort_values(ascending=False)\n",
    "print(platform_addiction)\n"
   ]
  },
  {
   "cell_type": "code",
   "execution_count": 19,
   "id": "e77f5523-236f-4f45-a730-c8a4e160258f",
   "metadata": {},
   "outputs": [
    {
     "name": "stdout",
     "output_type": "stream",
     "text": [
      "Affects_Academic_Performance        No       Yes\n",
      "Most_Used_Platform                              \n",
      "Facebook                      0.699187  0.300813\n",
      "Instagram                     0.309237  0.690763\n",
      "KakaoTalk                          NaN  1.000000\n",
      "LINE                          1.000000       NaN\n",
      "LinkedIn                      1.000000       NaN\n",
      "Snapchat                      0.076923  0.923077\n",
      "TikTok                        0.064935  0.935065\n",
      "Twitter                       0.633333  0.366667\n",
      "VKontakte                     1.000000       NaN\n",
      "WeChat                        0.466667  0.533333\n",
      "WhatsApp                           NaN  1.000000\n",
      "YouTube                       0.700000  0.300000\n"
     ]
    }
   ],
   "source": [
    "platform_academic = df.groupby(\"Most_Used_Platform\")['Affects_Academic_Performance'].value_counts(normalize=True).unstack()\n",
    "print(platform_academic)\n"
   ]
  },
  {
   "cell_type": "code",
   "execution_count": 21,
   "id": "73468bc6-0ad4-4a8c-ba6f-78dddb9b2fb9",
   "metadata": {},
   "outputs": [
    {
     "name": "stdout",
     "output_type": "stream",
     "text": [
      "Relationship_Status\n",
      "In Relationship    4.930796\n",
      "Single             4.926042\n",
      "Complicated        4.721875\n",
      "Name: Avg_Daily_Usage_Hours, dtype: float64\n",
      "Most_Used_Platform   Facebook  Instagram  KakaoTalk  LINE  LinkedIn  Snapchat  \\\n",
      "Relationship_Status                                                             \n",
      "Complicated                 1         10          0     0         5         4   \n",
      "In Relationship            71         94          6     0         8         4   \n",
      "Single                     51        145          6    12         8         5   \n",
      "\n",
      "Most_Used_Platform   TikTok  Twitter  VKontakte  WeChat  WhatsApp  YouTube  \n",
      "Relationship_Status                                                         \n",
      "Complicated               8        0          0       0         0        4  \n",
      "In Relationship          45       14          6      15        25        1  \n",
      "Single                  101       16          6       0        29        5  \n"
     ]
    }
   ],
   "source": [
    "relationship_usage = df.groupby(\"Relationship_Status\")['Avg_Daily_Usage_Hours'].mean().sort_values(ascending=False)\n",
    "print(relationship_usage)\n",
    "\n",
    "relationship_platform = df.groupby(\"Relationship_Status\")['Most_Used_Platform'].value_counts().unstack(fill_value=0)\n",
    "print(relationship_platform)\n"
   ]
  },
  {
   "cell_type": "code",
   "execution_count": 23,
   "id": "73ebc411-aa4e-47fb-866d-80460934c87c",
   "metadata": {},
   "outputs": [
    {
     "name": "stdout",
     "output_type": "stream",
     "text": [
      "Student_ID                                  3\n",
      "Age                                        20\n",
      "Gender                                 Female\n",
      "Academic_Level                  Undergraduate\n",
      "Country                                   USA\n",
      "Avg_Daily_Usage_Hours                     6.0\n",
      "Most_Used_Platform                     TikTok\n",
      "Affects_Academic_Performance              Yes\n",
      "Sleep_Hours_Per_Night                     5.0\n",
      "Mental_Health_Score                         5\n",
      "Relationship_Status               Complicated\n",
      "Conflicts_Over_Social_Media                 4\n",
      "Addicted_Score                              9\n",
      "Name: 2, dtype: object\n"
     ]
    }
   ],
   "source": [
    "max_addicted = df.loc[df['Addicted_Score'].idxmax()]\n",
    "print(max_addicted)\n"
   ]
  },
  {
   "cell_type": "code",
   "execution_count": 25,
   "id": "26ef5142-d133-46b0-b190-1079b28060b5",
   "metadata": {},
   "outputs": [
    {
     "name": "stdout",
     "output_type": "stream",
     "text": [
      "Student_ID                                495\n",
      "Age                                        20\n",
      "Gender                                 Female\n",
      "Academic_Level                  Undergraduate\n",
      "Country                           Switzerland\n",
      "Avg_Daily_Usage_Hours                     2.2\n",
      "Most_Used_Platform                  Instagram\n",
      "Affects_Academic_Performance               No\n",
      "Sleep_Hours_Per_Night                     9.6\n",
      "Mental_Health_Score                         8\n",
      "Relationship_Status                    Single\n",
      "Conflicts_Over_Social_Media                 2\n",
      "Addicted_Score                              4\n",
      "Name: 494, dtype: object\n"
     ]
    }
   ],
   "source": [
    "max_sleep = df.loc[df['Sleep_Hours_Per_Night'].idxmax()]\n",
    "print(max_sleep)\n"
   ]
  },
  {
   "cell_type": "code",
   "execution_count": 27,
   "id": "7d092ede-9176-4575-b028-7dd072390d38",
   "metadata": {},
   "outputs": [
    {
     "name": "stdout",
     "output_type": "stream",
     "text": [
      "Country\n",
      "Liechtenstein     9.0\n",
      "Czech Republic    9.0\n",
      "Armenia           9.0\n",
      "Lebanon           9.0\n",
      "Ecuador           9.0\n",
      "Name: Addicted_Score, dtype: float64\n"
     ]
    }
   ],
   "source": [
    "country_addiction = df.groupby(\"Country\")['Addicted_Score'].mean().sort_values(ascending=False)\n",
    "print(country_addiction.head())\n"
   ]
  },
  {
   "cell_type": "code",
   "execution_count": 29,
   "id": "0e66454c-bbff-4a9b-8db4-09fb5c464101",
   "metadata": {},
   "outputs": [
    {
     "name": "stdout",
     "output_type": "stream",
     "text": [
      "Most_Used_Platform  Facebook  Instagram  KakaoTalk  LINE  LinkedIn  Snapchat  \\\n",
      "Country                                                                        \n",
      "Afghanistan                0          0          0     0         1         0   \n",
      "Albania                    0          0          0     0         0         0   \n",
      "Andorra                    0          0          0     0         0         0   \n",
      "Argentina                  0          0          0     0         0         0   \n",
      "Armenia                    0          1          0     0         0         0   \n",
      "...                      ...        ...        ...   ...       ...       ...   \n",
      "Uzbekistan                 0          0          0     0         0         0   \n",
      "Vatican City               0          0          0     0         0         0   \n",
      "Venezuela                  1          0          0     0         0         0   \n",
      "Vietnam                    1          0          0     0         0         0   \n",
      "Yemen                      1          0          0     0         0         0   \n",
      "\n",
      "Most_Used_Platform  TikTok  Twitter  VKontakte  WeChat  WhatsApp  YouTube  \n",
      "Country                                                                    \n",
      "Afghanistan              0        0          0       0         0        0  \n",
      "Albania                  1        0          0       0         0        0  \n",
      "Andorra                  1        0          0       0         0        0  \n",
      "Argentina                1        0          0       0         0        0  \n",
      "Armenia                  0        0          0       0         0        0  \n",
      "...                    ...      ...        ...     ...       ...      ...  \n",
      "Uzbekistan               1        0          0       0         0        0  \n",
      "Vatican City             0        0          0       0         0        1  \n",
      "Venezuela                0        0          0       0         0        0  \n",
      "Vietnam                  0        0          0       0         0        0  \n",
      "Yemen                    0        0          0       0         0        0  \n",
      "\n",
      "[110 rows x 12 columns]\n"
     ]
    }
   ],
   "source": [
    "country_platform = df.groupby(\"Country\")['Most_Used_Platform'].value_counts().unstack(fill_value=0)\n",
    "print(country_platform)\n"
   ]
  },
  {
   "cell_type": "code",
   "execution_count": 31,
   "id": "d7b92f2f-84fe-41e8-aaf3-b3e85eb5b818",
   "metadata": {},
   "outputs": [
    {
     "name": "stdout",
     "output_type": "stream",
     "text": [
      "Most_Used_Platform  Facebook  Instagram  KakaoTalk  LINE  LinkedIn  Snapchat  \\\n",
      "Academic_Level                                                                 \n",
      "Graduate                  87         82          0     0        21         0   \n",
      "High School                0         12          0     0         0         5   \n",
      "Undergraduate             36        155         12    12         0         8   \n",
      "\n",
      "Most_Used_Platform  TikTok  Twitter  VKontakte  WeChat  WhatsApp  YouTube  \n",
      "Academic_Level                                                             \n",
      "Graduate                51       17         12      12        43        0  \n",
      "High School              8        0          0       0         0        2  \n",
      "Undergraduate           95       13          0       3        11        8  \n"
     ]
    }
   ],
   "source": [
    "academic_platform = df.groupby(\"Academic_Level\")['Most_Used_Platform'].value_counts().unstack(fill_value=0)\n",
    "print(academic_platform)\n"
   ]
  },
  {
   "cell_type": "code",
   "execution_count": 33,
   "id": "d1d6eb3b-9bf1-4ebc-8c72-ded5237b18c3",
   "metadata": {},
   "outputs": [
    {
     "name": "stdout",
     "output_type": "stream",
     "text": [
      "Most_Used_Platform\n",
      "Instagram    249\n",
      "TikTok       154\n",
      "Facebook     123\n",
      "WhatsApp      54\n",
      "Twitter       30\n",
      "LinkedIn      21\n",
      "WeChat        15\n",
      "Snapchat      13\n",
      "LINE          12\n",
      "KakaoTalk     12\n",
      "VKontakte     12\n",
      "YouTube       10\n",
      "Name: count, dtype: int64\n"
     ]
    }
   ],
   "source": [
    "top_platforms = df['Most_Used_Platform'].value_counts()\n",
    "print(top_platforms)\n"
   ]
  },
  {
   "cell_type": "code",
   "execution_count": 35,
   "id": "1ffc732b-06ae-478b-aaf3-9f323cc0b37d",
   "metadata": {},
   "outputs": [
    {
     "name": "stdout",
     "output_type": "stream",
     "text": [
      "Age\n",
      "18    5.385714\n",
      "19    5.120245\n",
      "24    5.046154\n",
      "21    4.950641\n",
      "20    4.930303\n",
      "Name: Avg_Daily_Usage_Hours, dtype: float64\n"
     ]
    }
   ],
   "source": [
    "age_usage = df.groupby(\"Age\")['Avg_Daily_Usage_Hours'].mean().sort_values(ascending=False)\n",
    "print(age_usage.head())\n"
   ]
  },
  {
   "cell_type": "code",
   "execution_count": 37,
   "id": "7ebdfec0-8263-459e-ab84-7f8cc38ef114",
   "metadata": {},
   "outputs": [
    {
     "name": "stdout",
     "output_type": "stream",
     "text": [
      "Most_Used_Platform\n",
      "WhatsApp     6.475926\n",
      "TikTok       5.346104\n",
      "Snapchat     5.092308\n",
      "WeChat       4.960000\n",
      "Instagram    4.872289\n",
      "Twitter      4.870000\n",
      "KakaoTalk    4.725000\n",
      "Facebook     4.507317\n",
      "VKontakte    4.250000\n",
      "YouTube      4.080000\n",
      "LINE         3.250000\n",
      "LinkedIn     2.519048\n",
      "Name: Avg_Daily_Usage_Hours, dtype: float64\n"
     ]
    }
   ],
   "source": [
    "platform_time = df.groupby(\"Most_Used_Platform\")['Avg_Daily_Usage_Hours'].mean().sort_values(ascending=False)\n",
    "print(platform_time)\n"
   ]
  },
  {
   "cell_type": "code",
   "execution_count": 39,
   "id": "a3995480-35cc-43f8-ab0d-49ec794af68e",
   "metadata": {},
   "outputs": [
    {
     "name": "stdout",
     "output_type": "stream",
     "text": [
      "Country\n",
      "Liechtenstein     9.0\n",
      "Czech Republic    9.0\n",
      "Armenia           9.0\n",
      "Lebanon           9.0\n",
      "Ecuador           9.0\n",
      "Name: Addicted_Score, dtype: float64\n"
     ]
    }
   ],
   "source": [
    "country_addiction = df.groupby(\"Country\")['Addicted_Score'].mean().sort_values(ascending=False)\n",
    "print(country_addiction.head())\n"
   ]
  },
  {
   "cell_type": "code",
   "execution_count": 41,
   "id": "7730b96e-6a1b-40b7-afaf-7e7ddefca8b1",
   "metadata": {},
   "outputs": [
    {
     "name": "stdout",
     "output_type": "stream",
     "text": [
      "Most_Used_Platform  Facebook  Instagram  KakaoTalk  LINE  LinkedIn  Snapchat  \\\n",
      "Gender                                                                         \n",
      "Female                    24        172         12    12         8         8   \n",
      "Male                      99         77          0     0        13         5   \n",
      "\n",
      "Most_Used_Platform  TikTok  Twitter  VKontakte  WeChat  WhatsApp  YouTube  \n",
      "Gender                                                                     \n",
      "Female                  86       16          0       4        11        0  \n",
      "Male                    68       14         12      11        43       10  \n"
     ]
    }
   ],
   "source": [
    "gender_platform = df.groupby(\"Gender\")['Most_Used_Platform'].value_counts().unstack(fill_value=0)\n",
    "print(gender_platform)\n"
   ]
  },
  {
   "cell_type": "code",
   "execution_count": 43,
   "id": "31879fde-524b-4b2d-b930-9ce81613e7cc",
   "metadata": {},
   "outputs": [
    {
     "name": "stdout",
     "output_type": "stream",
     "text": [
      "Gender\n",
      "Male      6.921875\n",
      "Female    6.816147\n",
      "Name: Sleep_Hours_Per_Night, dtype: float64\n"
     ]
    }
   ],
   "source": [
    "gender_sleep = df.groupby(\"Gender\")['Sleep_Hours_Per_Night'].mean().sort_values(ascending=False)\n",
    "print(gender_sleep)\n"
   ]
  },
  {
   "cell_type": "code",
   "execution_count": 45,
   "id": "f918c957-70f2-4247-b439-c2026cd962ee",
   "metadata": {},
   "outputs": [
    {
     "name": "stdout",
     "output_type": "stream",
     "text": [
      "Relationship_Status\n",
      "In Relationship    4.930796\n",
      "Single             4.926042\n",
      "Complicated        4.721875\n",
      "Name: Avg_Daily_Usage_Hours, dtype: float64\n"
     ]
    }
   ],
   "source": [
    "relationship_usage = df.groupby(\"Relationship_Status\")['Avg_Daily_Usage_Hours'].mean().sort_values(ascending=False)\n",
    "print(relationship_usage)\n"
   ]
  },
  {
   "cell_type": "code",
   "execution_count": 47,
   "id": "eb21a78d-bfd6-4d2b-8af9-ca14189d054d",
   "metadata": {},
   "outputs": [
    {
     "name": "stdout",
     "output_type": "stream",
     "text": [
      "Most_Used_Platform   Facebook  Instagram  KakaoTalk  LINE  LinkedIn  Snapchat  \\\n",
      "Relationship_Status                                                             \n",
      "Complicated                 1         10          0     0         5         4   \n",
      "In Relationship            71         94          6     0         8         4   \n",
      "Single                     51        145          6    12         8         5   \n",
      "\n",
      "Most_Used_Platform   TikTok  Twitter  VKontakte  WeChat  WhatsApp  YouTube  \n",
      "Relationship_Status                                                         \n",
      "Complicated               8        0          0       0         0        4  \n",
      "In Relationship          45       14          6      15        25        1  \n",
      "Single                  101       16          6       0        29        5  \n"
     ]
    }
   ],
   "source": [
    "relationship_platform = df.groupby(\"Relationship_Status\")['Most_Used_Platform'].value_counts().unstack(fill_value=0)\n",
    "print(relationship_platform)\n"
   ]
  },
  {
   "cell_type": "code",
   "execution_count": 49,
   "id": "8bf755ae-38ac-4e4d-8bf7-8d91eba64e74",
   "metadata": {},
   "outputs": [
    {
     "name": "stdout",
     "output_type": "stream",
     "text": [
      "Affects_Academic_Performance        No       Yes\n",
      "Most_Used_Platform                              \n",
      "LINE                          1.000000  0.000000\n",
      "LinkedIn                      1.000000  0.000000\n",
      "VKontakte                     1.000000  0.000000\n",
      "YouTube                       0.700000  0.300000\n",
      "Facebook                      0.699187  0.300813\n",
      "Twitter                       0.633333  0.366667\n",
      "WeChat                        0.466667  0.533333\n",
      "Instagram                     0.309237  0.690763\n",
      "Snapchat                      0.076923  0.923077\n",
      "TikTok                        0.064935  0.935065\n",
      "KakaoTalk                     0.000000  1.000000\n",
      "WhatsApp                      0.000000  1.000000\n"
     ]
    }
   ],
   "source": [
    "# Percentage of \"Yes\" per platform\n",
    "platform_study = (\n",
    "    df.groupby(\"Most_Used_Platform\")['Affects_Academic_Performance']\n",
    "    .value_counts(normalize=True)\n",
    "    .unstack()\n",
    "    .fillna(0)\n",
    "    .sort_values(by=\"Yes\", ascending=True)   # sort ascending by \"Yes\"\n",
    ")\n",
    "\n",
    "print(platform_study)\n"
   ]
  },
  {
   "cell_type": "code",
   "execution_count": 51,
   "id": "6b5e32e3-5cf7-43a4-a1bd-87a22ace185a",
   "metadata": {},
   "outputs": [
    {
     "name": "stdout",
     "output_type": "stream",
     "text": [
      "                    Mental_Health_Score  Avg_Daily_Usage_Hours\n",
      "Most_Used_Platform                                            \n",
      "WhatsApp                       5.537037               6.475926\n",
      "Snapchat                       5.538462               5.092308\n",
      "TikTok                         5.714286               5.346104\n",
      "KakaoTalk                      6.000000               4.725000\n",
      "Instagram                      6.124498               4.872289\n",
      "WeChat                         6.466667               4.960000\n",
      "YouTube                        6.600000               4.080000\n",
      "Facebook                       6.715447               4.507317\n",
      "Twitter                        6.833333               4.870000\n",
      "VKontakte                      7.000000               4.250000\n",
      "LINE                           8.000000               3.250000\n",
      "LinkedIn                       8.000000               2.519048\n"
     ]
    }
   ],
   "source": [
    "platform_health_usage = df.groupby(\"Most_Used_Platform\")[['Mental_Health_Score','Avg_Daily_Usage_Hours']].mean().sort_values(by=\"Mental_Health_Score\")\n",
    "print(platform_health_usage)\n"
   ]
  },
  {
   "cell_type": "code",
   "execution_count": 53,
   "id": "70009208-3c84-40e4-b04d-eef12a7963e2",
   "metadata": {},
   "outputs": [
    {
     "name": "stdout",
     "output_type": "stream",
     "text": [
      "                    Conflicts_Over_Social_Media  Avg_Daily_Usage_Hours\n",
      "Most_Used_Platform                                                    \n",
      "WhatsApp                               3.462963               6.475926\n",
      "TikTok                                 3.409091               5.346104\n",
      "Snapchat                               3.230769               5.092308\n",
      "KakaoTalk                              3.000000               4.725000\n",
      "Instagram                              2.939759               4.872289\n",
      "WeChat                                 2.533333               4.960000\n",
      "Twitter                                2.433333               4.870000\n",
      "Facebook                               2.430894               4.507317\n",
      "YouTube                                2.200000               4.080000\n",
      "VKontakte                              2.000000               4.250000\n",
      "LINE                                   1.000000               3.250000\n",
      "LinkedIn                               0.904762               2.519048\n"
     ]
    }
   ],
   "source": [
    "platform_conflict_usage = df.groupby(\"Most_Used_Platform\")[['Conflicts_Over_Social_Media','Avg_Daily_Usage_Hours']].mean().sort_values(by=\"Conflicts_Over_Social_Media\", ascending=False)\n",
    "print(platform_conflict_usage)\n"
   ]
  },
  {
   "cell_type": "code",
   "execution_count": 101,
   "id": "928e7d1f-666f-4142-a6c0-37e6b3b3f576",
   "metadata": {},
   "outputs": [
    {
     "name": "stdout",
     "output_type": "stream",
     "text": [
      "Most_Used_Platform      Facebook  Instagram  KakaoTalk  LINE  LinkedIn  \\\n",
      "Mental_Health_Category                                                   \n",
      "Low                     5.666667   6.554217        6.0   3.0  3.809524   \n",
      "Moderate                     NaN        NaN        NaN   NaN       NaN   \n",
      "High                         NaN        NaN        NaN   NaN       NaN   \n",
      "\n",
      "Most_Used_Platform      Snapchat    TikTok  Twitter  VKontakte    WeChat  \\\n",
      "Mental_Health_Category                                                     \n",
      "Low                     7.461538  7.428571      5.5        5.0  6.066667   \n",
      "Moderate                     NaN       NaN      NaN        NaN       NaN   \n",
      "High                         NaN       NaN      NaN        NaN       NaN   \n",
      "\n",
      "Most_Used_Platform      WhatsApp  YouTube  \n",
      "Mental_Health_Category                     \n",
      "Low                     7.462963      6.1  \n",
      "Moderate                     NaN      NaN  \n",
      "High                         NaN      NaN  \n"
     ]
    },
    {
     "name": "stderr",
     "output_type": "stream",
     "text": [
      "C:\\Users\\user\\AppData\\Local\\Temp\\ipykernel_5944\\215412807.py:6: FutureWarning: The default of observed=False is deprecated and will be changed to True in a future version of pandas. Pass observed=False to retain current behavior or observed=True to adopt the future default and silence this warning.\n",
      "  addiction_by_health_platform = df.groupby(['Mental_Health_Category','Most_Used_Platform'])['Addicted_Score'].mean().unstack(fill_value=0)\n"
     ]
    }
   ],
   "source": [
    "# If Mental_Health_Score is numeric, we can bucket it\n",
    "df['Mental_Health_Category'] = pd.cut(df['Mental_Health_Score'],\n",
    "                                      bins=[0,30,60,100],\n",
    "                                      labels=[\"Low\",\"Moderate\",\"High\"])\n",
    "\n",
    "addiction_by_health_platform = df.groupby(['Mental_Health_Category','Most_Used_Platform'])['Addicted_Score'].mean().unstack(fill_value=0)\n",
    "print(addiction_by_health_platform)\n",
    "\n",
    "addiction_by_health_platform = (\n",
    "    df.groupby(['Mental_Health_Category','Most_Used_Platform'], observed=True)['Addicted_Score']\n",
    "    .mean()\n",
    "    .unstack(fill_value=0)\n",
    ")\n",
    "\n"
   ]
  },
  {
   "cell_type": "code",
   "execution_count": 105,
   "id": "c290a181-4c10-48e5-9b7d-06b05418c3a0",
   "metadata": {},
   "outputs": [
    {
     "name": "stdout",
     "output_type": "stream",
     "text": [
      "                       Avg_Daily_Usage_Hours  Sleep_Hours_Per_Night  \\\n",
      "Avg_Daily_Usage_Hours               1.000000              -0.790582   \n",
      "Sleep_Hours_Per_Night              -0.790582               1.000000   \n",
      "Mental_Health_Score                -0.801058               0.707439   \n",
      "Addicted_Score                      0.832000              -0.764858   \n",
      "\n",
      "                       Mental_Health_Score  Addicted_Score  \n",
      "Avg_Daily_Usage_Hours            -0.801058        0.832000  \n",
      "Sleep_Hours_Per_Night             0.707439       -0.764858  \n",
      "Mental_Health_Score               1.000000       -0.945051  \n",
      "Addicted_Score                   -0.945051        1.000000  \n"
     ]
    }
   ],
   "source": [
    "correlation = df[['Avg_Daily_Usage_Hours','Sleep_Hours_Per_Night','Mental_Health_Score','Addicted_Score']].corr()\n",
    "print(correlation)\n"
   ]
  },
  {
   "cell_type": "code",
   "execution_count": 59,
   "id": "ed9f16e6-75ef-4046-9f69-adc503637911",
   "metadata": {},
   "outputs": [
    {
     "name": "stdout",
     "output_type": "stream",
     "text": [
      "Sleep_Hours_Per_Night\n",
      "3.8    9.000000\n",
      "4.0    9.000000\n",
      "3.9    9.000000\n",
      "4.5    8.666667\n",
      "4.1    8.500000\n",
      "4.3    8.500000\n",
      "4.4    8.500000\n",
      "4.2    8.500000\n",
      "5.2    8.461538\n",
      "5.0    8.142857\n",
      "5.1    8.142857\n",
      "5.5    8.066667\n",
      "5.4    8.000000\n",
      "5.3    8.000000\n",
      "4.6    8.000000\n",
      "4.8    8.000000\n",
      "4.7    8.000000\n",
      "5.9    7.857143\n",
      "6.2    7.850000\n",
      "5.7    7.833333\n",
      "6.0    7.833333\n",
      "4.9    7.800000\n",
      "5.6    7.777778\n",
      "6.1    7.750000\n",
      "5.8    7.739130\n",
      "6.3    7.684211\n",
      "6.4    7.470588\n",
      "6.9    6.928571\n",
      "6.5    6.869565\n",
      "6.8    6.833333\n",
      "6.7    6.760000\n",
      "6.6    6.750000\n",
      "7.0    6.000000\n",
      "7.1    5.650000\n",
      "7.6    5.625000\n",
      "7.7    5.600000\n",
      "7.2    5.464286\n",
      "7.5    5.360000\n",
      "8.1    5.312500\n",
      "7.4    5.307692\n",
      "7.3    5.285714\n",
      "7.9    5.263158\n",
      "8.0    5.222222\n",
      "7.8    5.150000\n",
      "8.4    5.142857\n",
      "8.2    5.133333\n",
      "8.3    5.066667\n",
      "8.6    4.888889\n",
      "8.5    4.800000\n",
      "8.7    4.428571\n",
      "8.8    4.333333\n",
      "9.0    4.333333\n",
      "9.1    4.333333\n",
      "9.2    4.333333\n",
      "8.9    4.200000\n",
      "9.3    4.000000\n",
      "9.4    4.000000\n",
      "9.5    4.000000\n",
      "9.6    4.000000\n",
      "Name: Addicted_Score, dtype: float64\n"
     ]
    }
   ],
   "source": [
    "sleep_addiction = df.groupby(\"Sleep_Hours_Per_Night\")['Addicted_Score'].mean().sort_values(ascending=False)\n",
    "print(sleep_addiction)\n"
   ]
  },
  {
   "cell_type": "code",
   "execution_count": 61,
   "id": "426a3340-9f9e-4ab3-9875-f019b679e062",
   "metadata": {},
   "outputs": [
    {
     "name": "stdout",
     "output_type": "stream",
     "text": [
      "Affects_Academic_Performance        No       Yes\n",
      "Sleep_Hours_Per_Night                           \n",
      "3.8                           0.000000  1.000000\n",
      "3.9                           0.000000  1.000000\n",
      "4.0                           0.000000  1.000000\n",
      "4.1                           0.000000  1.000000\n",
      "4.2                           0.000000  1.000000\n",
      "4.3                           0.000000  1.000000\n",
      "4.4                           0.000000  1.000000\n",
      "4.5                           0.000000  1.000000\n",
      "4.6                           0.000000  1.000000\n",
      "4.7                           0.000000  1.000000\n",
      "4.8                           0.000000  1.000000\n",
      "4.9                           0.000000  1.000000\n",
      "5.0                           0.000000  1.000000\n",
      "5.1                           0.000000  1.000000\n",
      "5.2                           0.000000  1.000000\n",
      "5.3                           0.000000  1.000000\n",
      "5.4                           0.000000  1.000000\n",
      "5.5                           0.000000  1.000000\n",
      "5.6                           0.000000  1.000000\n",
      "5.7                           0.000000  1.000000\n",
      "5.8                           0.000000  1.000000\n",
      "5.9                           0.000000  1.000000\n",
      "6.0                           0.000000  1.000000\n",
      "6.1                           0.000000  1.000000\n",
      "6.2                           0.000000  1.000000\n",
      "6.3                           0.000000  1.000000\n",
      "6.4                           0.058824  0.941176\n",
      "6.5                           0.217391  0.782609\n",
      "6.6                           0.200000  0.800000\n",
      "6.7                           0.120000  0.880000\n",
      "6.8                           0.125000  0.875000\n",
      "6.9                           0.071429  0.928571\n",
      "7.0                           0.388889  0.611111\n",
      "7.1                           0.600000  0.400000\n",
      "7.2                           0.678571  0.321429\n",
      "7.3                           0.750000  0.250000\n",
      "7.4                           0.692308  0.307692\n",
      "7.5                           0.640000  0.360000\n",
      "7.6                           0.500000  0.500000\n",
      "7.7                           0.533333  0.466667\n",
      "7.8                           0.650000  0.350000\n",
      "7.9                           0.631579  0.368421\n",
      "8.0                           0.611111  0.388889\n",
      "8.1                           0.625000  0.375000\n",
      "8.2                           0.733333  0.266667\n",
      "8.3                           0.733333  0.266667\n",
      "8.4                           0.714286  0.285714\n",
      "8.5                           0.800000  0.200000\n",
      "8.6                           0.777778  0.222222\n",
      "8.7                           0.857143  0.142857\n",
      "8.8                           1.000000  0.000000\n",
      "8.9                           1.000000  0.000000\n",
      "9.0                           1.000000  0.000000\n",
      "9.1                           1.000000  0.000000\n",
      "9.2                           1.000000  0.000000\n",
      "9.3                           1.000000  0.000000\n",
      "9.4                           1.000000  0.000000\n",
      "9.5                           1.000000  0.000000\n",
      "9.6                           1.000000  0.000000\n"
     ]
    }
   ],
   "source": [
    "sleep_study = df.groupby(\"Sleep_Hours_Per_Night\")['Affects_Academic_Performance'].value_counts(normalize=True).unstack().fillna(0)\n",
    "print(sleep_study)\n"
   ]
  },
  {
   "cell_type": "code",
   "execution_count": 63,
   "id": "0b82cd5c-70f7-4da1-9fe8-8358db7d69cb",
   "metadata": {},
   "outputs": [
    {
     "name": "stdout",
     "output_type": "stream",
     "text": [
      "Mental_Health_Score\n",
      "4    6.868966\n",
      "5    6.013873\n",
      "6    5.178539\n",
      "7    4.198315\n",
      "8    3.287619\n",
      "9    1.500000\n",
      "Name: Avg_Daily_Usage_Hours, dtype: float64\n"
     ]
    }
   ],
   "source": [
    "mental_usage = df.groupby(\"Mental_Health_Score\")['Avg_Daily_Usage_Hours'].mean().sort_values(ascending=False)\n",
    "print(mental_usage)\n"
   ]
  },
  {
   "cell_type": "code",
   "execution_count": 65,
   "id": "c2074d98-93dc-47ff-aa0f-11869ed2eb3f",
   "metadata": {},
   "outputs": [
    {
     "name": "stdout",
     "output_type": "stream",
     "text": [
      "Age\n",
      "18    3.571429\n",
      "19    3.006135\n",
      "20    2.933333\n",
      "21    2.871795\n",
      "24    2.653846\n",
      "22    2.632653\n",
      "23    2.382353\n",
      "Name: Conflicts_Over_Social_Media, dtype: float64\n"
     ]
    }
   ],
   "source": [
    "age_conflicts = df.groupby(\"Age\")['Conflicts_Over_Social_Media'].mean().sort_values(ascending=False)\n",
    "print(age_conflicts)\n"
   ]
  },
  {
   "cell_type": "code",
   "execution_count": 67,
   "id": "1ded1fb5-f7aa-42c5-bffa-639dad97513d",
   "metadata": {},
   "outputs": [
    {
     "name": "stdout",
     "output_type": "stream",
     "text": [
      "Affects_Academic_Performance\n",
      "No     4.595238\n",
      "Yes    7.461369\n",
      "Name: Addicted_Score, dtype: float64\n"
     ]
    }
   ],
   "source": [
    "addiction_academic = df.groupby(\"Affects_Academic_Performance\")['Addicted_Score'].mean()\n",
    "print(addiction_academic)\n"
   ]
  },
  {
   "cell_type": "code",
   "execution_count": 69,
   "id": "ec81b6b2-fc72-44a3-b7b6-205f6f3848d1",
   "metadata": {},
   "outputs": [
    {
     "name": "stdout",
     "output_type": "stream",
     "text": [
      "Most_Used_Platform\n",
      "WhatsApp     3.462963\n",
      "TikTok       3.409091\n",
      "Snapchat     3.230769\n",
      "KakaoTalk    3.000000\n",
      "Instagram    2.939759\n",
      "WeChat       2.533333\n",
      "Twitter      2.433333\n",
      "Facebook     2.430894\n",
      "YouTube      2.200000\n",
      "VKontakte    2.000000\n",
      "LINE         1.000000\n",
      "LinkedIn     0.904762\n",
      "Name: Conflicts_Over_Social_Media, dtype: float64\n"
     ]
    }
   ],
   "source": [
    "platform_conflicts = df.groupby(\"Most_Used_Platform\")['Conflicts_Over_Social_Media'].mean().sort_values(ascending=False)\n",
    "print(platform_conflicts)\n"
   ]
  },
  {
   "cell_type": "code",
   "execution_count": 71,
   "id": "069fd5f6-0722-4f6a-87b0-ac308653787a",
   "metadata": {},
   "outputs": [
    {
     "name": "stdout",
     "output_type": "stream",
     "text": [
      "Country\n",
      "Switzerland      8.277778\n",
      "Denmark          8.196296\n",
      "Netherlands      8.175000\n",
      "Germany          7.942857\n",
      "Japan            7.938095\n",
      "                   ...   \n",
      "Ecuador          5.200000\n",
      "Trinidad         5.200000\n",
      "Lebanon          5.200000\n",
      "Armenia          5.200000\n",
      "Liechtenstein    5.200000\n",
      "Name: Sleep_Hours_Per_Night, Length: 110, dtype: float64\n"
     ]
    }
   ],
   "source": [
    "country_sleep = df.groupby(\"Country\")['Sleep_Hours_Per_Night'].mean().sort_values(ascending=False)\n",
    "print(country_sleep)\n"
   ]
  },
  {
   "cell_type": "code",
   "execution_count": 73,
   "id": "714fde2b-2def-4395-8de1-20db328d0e07",
   "metadata": {},
   "outputs": [
    {
     "name": "stdout",
     "output_type": "stream",
     "text": [
      "Gender\n",
      "Female    6.515581\n",
      "Male      6.357955\n",
      "Name: Addicted_Score, dtype: float64\n"
     ]
    }
   ],
   "source": [
    "gender_addiction = df.groupby(\"Gender\")['Addicted_Score'].mean().sort_values(ascending=False)\n",
    "print(gender_addiction)\n"
   ]
  },
  {
   "cell_type": "code",
   "execution_count": 75,
   "id": "75eb729c-7277-495c-b83d-417aa6d925a5",
   "metadata": {},
   "outputs": [
    {
     "name": "stdout",
     "output_type": "stream",
     "text": [
      "Academic_Level\n",
      "High School      8.037037\n",
      "Undergraduate    6.492918\n",
      "Graduate         6.243077\n",
      "Name: Addicted_Score, dtype: float64\n"
     ]
    }
   ],
   "source": [
    "academic_addiction = df.groupby(\"Academic_Level\")['Addicted_Score'].mean().sort_values(ascending=False)\n",
    "print(academic_addiction)\n"
   ]
  },
  {
   "cell_type": "code",
   "execution_count": 77,
   "id": "f41223a7-e945-4ae4-8a0a-549a818b694e",
   "metadata": {},
   "outputs": [
    {
     "name": "stdout",
     "output_type": "stream",
     "text": [
      "Relationship_Status\n",
      "In Relationship    6.297578\n",
      "Single             6.197917\n",
      "Complicated        5.937500\n",
      "Name: Mental_Health_Score, dtype: float64\n"
     ]
    }
   ],
   "source": [
    "relationship_mental = df.groupby(\"Relationship_Status\")['Mental_Health_Score'].mean().sort_values(ascending=False)\n",
    "print(relationship_mental)\n"
   ]
  },
  {
   "cell_type": "code",
   "execution_count": 79,
   "id": "e5d9c300-40dd-4062-9b41-28f69ef2bf8b",
   "metadata": {},
   "outputs": [
    {
     "name": "stdout",
     "output_type": "stream",
     "text": [
      "           Country  Addicted_Score Most_Used_Platform  User_Count\n",
      "55   Liechtenstein        9.000000          Instagram           1\n",
      "25  Czech Republic        9.000000           Snapchat           1\n",
      "4          Armenia        9.000000          Instagram           1\n",
      "54         Lebanon        9.000000            YouTube           1\n",
      "27         Ecuador        9.000000          Instagram           1\n",
      "..             ...             ...                ...         ...\n",
      "19           Chile        4.000000           LinkedIn           1\n",
      "33         Germany        3.857143           Facebook           7\n",
      "46           Japan        3.476190               LINE          12\n",
      "86        Slovakia        3.000000           LinkedIn           1\n",
      "92          Sweden        3.000000           LinkedIn           1\n",
      "\n",
      "[110 rows x 4 columns]\n"
     ]
    }
   ],
   "source": [
    "# Average addiction score by country\n",
    "country_addiction = df.groupby(\"Country\")['Addicted_Score'].mean().reset_index()\n",
    "\n",
    "# Most used platform per country\n",
    "country_platform = (\n",
    "    df.groupby([\"Country\", \"Most_Used_Platform\"])['Student_ID']\n",
    "    .count()\n",
    "    .reset_index()\n",
    "    .rename(columns={\"Student_ID\": \"User_Count\"})\n",
    ")\n",
    "\n",
    "# Get the platform with max users per country\n",
    "country_top_platform = country_platform.loc[country_platform.groupby(\"Country\")['User_Count'].idxmax()]\n",
    "\n",
    "# Merge both addiction score + platform\n",
    "country_addiction_platform = pd.merge(country_addiction, country_top_platform, on=\"Country\")\n",
    "\n",
    "# Sort by addiction score descending\n",
    "country_addiction_platform = country_addiction_platform.sort_values(by=\"Addicted_Score\", ascending=False)\n",
    "\n",
    "print(country_addiction_platform)\n"
   ]
  },
  {
   "cell_type": "code",
   "execution_count": 81,
   "id": "eab19db2-c692-4b91-a677-b67023ef61ad",
   "metadata": {},
   "outputs": [
    {
     "name": "stdout",
     "output_type": "stream",
     "text": [
      "Relationship_Status\n",
      "Complicated        7.031250\n",
      "Single             6.458333\n",
      "In Relationship    6.342561\n",
      "Name: Addicted_Score, dtype: float64\n"
     ]
    }
   ],
   "source": [
    "addiction_relationship = df.groupby(\"Relationship_Status\")['Addicted_Score'].mean().sort_values(ascending=False)\n",
    "print(addiction_relationship)\n"
   ]
  },
  {
   "cell_type": "code",
   "execution_count": 83,
   "id": "d6a04f67-f065-43c4-b3ac-56fc8f3a0251",
   "metadata": {},
   "outputs": [
    {
     "name": "stdout",
     "output_type": "stream",
     "text": [
      "Most_Used_Platform  Facebook  Instagram  KakaoTalk  LINE  LinkedIn  Snapchat  \\\n",
      "Academic_Level                                                                 \n",
      "Graduate            5.597701   6.621951        0.0   0.0  3.809524       0.0   \n",
      "High School         0.000000   8.500000        0.0   0.0  0.000000       8.2   \n",
      "Undergraduate       5.833333   6.367742        6.0   3.0  0.000000       7.0   \n",
      "\n",
      "Most_Used_Platform    TikTok   Twitter  VKontakte    WeChat  WhatsApp  YouTube  \n",
      "Academic_Level                                                                  \n",
      "Graduate            7.352941  5.588235        5.0  5.833333  7.418605      0.0  \n",
      "High School         7.625000  0.000000        0.0  0.000000  0.000000      6.5  \n",
      "Undergraduate       7.452632  5.384615        0.0  7.000000  7.636364      6.0  \n"
     ]
    }
   ],
   "source": [
    "addiction_academic_platform = df.groupby(['Academic_Level','Most_Used_Platform'])['Addicted_Score'].mean().unstack(fill_value=0)\n",
    "print(addiction_academic_platform)\n"
   ]
  },
  {
   "cell_type": "code",
   "execution_count": 85,
   "id": "f1fbc3b8-ed8c-49ac-a483-71161d591f53",
   "metadata": {},
   "outputs": [
    {
     "name": "stdout",
     "output_type": "stream",
     "text": [
      "Relationship_Status\n",
      "Complicated        3.031250\n",
      "Single             2.901042\n",
      "In Relationship    2.761246\n",
      "Name: Conflicts_Over_Social_Media, dtype: float64\n"
     ]
    }
   ],
   "source": [
    "conflict_relationship = df.groupby(\"Relationship_Status\")['Conflicts_Over_Social_Media'].mean().sort_values(ascending=False)\n",
    "print(conflict_relationship)\n"
   ]
  },
  {
   "cell_type": "code",
   "execution_count": 87,
   "id": "7fd55232-3274-4170-814e-05a561c4f6ec",
   "metadata": {},
   "outputs": [
    {
     "name": "stdout",
     "output_type": "stream",
     "text": [
      "                    Avg_Daily_Usage_Hours  Sleep_Hours_Per_Night  \\\n",
      "Addiction_Category                                                 \n",
      "Low                              4.918723               6.868936   \n",
      "Moderate                              NaN                    NaN   \n",
      "High                                  NaN                    NaN   \n",
      "\n",
      "                    Mental_Health_Score  \n",
      "Addiction_Category                       \n",
      "Low                             6.22695  \n",
      "Moderate                            NaN  \n",
      "High                                NaN  \n"
     ]
    },
    {
     "name": "stderr",
     "output_type": "stream",
     "text": [
      "C:\\Users\\user\\AppData\\Local\\Temp\\ipykernel_5944\\1196244127.py:5: FutureWarning: The default of observed=False is deprecated and will be changed to True in a future version of pandas. Pass observed=False to retain current behavior or observed=True to adopt the future default and silence this warning.\n",
      "  addiction_summary = df.groupby('Addiction_Category')[['Avg_Daily_Usage_Hours','Sleep_Hours_Per_Night','Mental_Health_Score']].mean()\n"
     ]
    }
   ],
   "source": [
    "# Create buckets for addiction\n",
    "df['Addiction_Category'] = pd.cut(df['Addicted_Score'], bins=[0,30,60,100], labels=[\"Low\",\"Moderate\",\"High\"])\n",
    "\n",
    "# Summary by addiction category\n",
    "addiction_summary = df.groupby('Addiction_Category')[['Avg_Daily_Usage_Hours','Sleep_Hours_Per_Night','Mental_Health_Score']].mean()\n",
    "print(addiction_summary)\n"
   ]
  },
  {
   "cell_type": "code",
   "execution_count": 89,
   "id": "161cfb8c-b829-4145-9b60-60551530697f",
   "metadata": {},
   "outputs": [
    {
     "name": "stdout",
     "output_type": "stream",
     "text": [
      "                        Addicted_Score  Avg_Daily_Usage_Hours\n",
      "Mental_Health_Category                                       \n",
      "Low                           6.436879               4.918723\n",
      "Moderate                           NaN                    NaN\n",
      "High                               NaN                    NaN\n"
     ]
    },
    {
     "name": "stderr",
     "output_type": "stream",
     "text": [
      "C:\\Users\\user\\AppData\\Local\\Temp\\ipykernel_5944\\357054179.py:3: FutureWarning: The default of observed=False is deprecated and will be changed to True in a future version of pandas. Pass observed=False to retain current behavior or observed=True to adopt the future default and silence this warning.\n",
      "  mental_health_summary = df.groupby('Mental_Health_Category')[['Addicted_Score','Avg_Daily_Usage_Hours']].mean()\n"
     ]
    }
   ],
   "source": [
    "df['Mental_Health_Category'] = pd.cut(df['Mental_Health_Score'], bins=[0,30,60,100], labels=[\"Low\",\"Moderate\",\"High\"])\n",
    "\n",
    "mental_health_summary = df.groupby('Mental_Health_Category')[['Addicted_Score','Avg_Daily_Usage_Hours']].mean()\n",
    "print(mental_health_summary)\n"
   ]
  },
  {
   "cell_type": "code",
   "execution_count": 91,
   "id": "939c52ca-7616-4c1e-90c4-21d65ac84c48",
   "metadata": {},
   "outputs": [
    {
     "name": "stdout",
     "output_type": "stream",
     "text": [
      "                    Addicted_Score  Avg_Daily_Usage_Hours  \\\n",
      "Most_Used_Platform                                          \n",
      "Facebook                  5.666667               4.507317   \n",
      "Instagram                 6.554217               4.872289   \n",
      "KakaoTalk                 6.000000               4.725000   \n",
      "LINE                      3.000000               3.250000   \n",
      "LinkedIn                  3.809524               2.519048   \n",
      "Snapchat                  7.461538               5.092308   \n",
      "TikTok                    7.428571               5.346104   \n",
      "Twitter                   5.500000               4.870000   \n",
      "VKontakte                 5.000000               4.250000   \n",
      "WeChat                    6.066667               4.960000   \n",
      "WhatsApp                  7.462963               6.475926   \n",
      "YouTube                   6.100000               4.080000   \n",
      "\n",
      "                    Mental_Health_Score  Conflicts_Over_Social_Media  \n",
      "Most_Used_Platform                                                    \n",
      "Facebook                       6.715447                     2.430894  \n",
      "Instagram                      6.124498                     2.939759  \n",
      "KakaoTalk                      6.000000                     3.000000  \n",
      "LINE                           8.000000                     1.000000  \n",
      "LinkedIn                       8.000000                     0.904762  \n",
      "Snapchat                       5.538462                     3.230769  \n",
      "TikTok                         5.714286                     3.409091  \n",
      "Twitter                        6.833333                     2.433333  \n",
      "VKontakte                      7.000000                     2.000000  \n",
      "WeChat                         6.466667                     2.533333  \n",
      "WhatsApp                       5.537037                     3.462963  \n",
      "YouTube                        6.600000                     2.200000  \n"
     ]
    }
   ],
   "source": [
    "platform_profile = df.groupby(\"Most_Used_Platform\")[['Addicted_Score','Avg_Daily_Usage_Hours','Mental_Health_Score','Conflicts_Over_Social_Media']].mean()\n",
    "print(platform_profile)\n"
   ]
  },
  {
   "cell_type": "code",
   "execution_count": 93,
   "id": "74f1e2f1-af6b-4da9-ac03-2237b504d8f3",
   "metadata": {},
   "outputs": [
    {
     "name": "stdout",
     "output_type": "stream",
     "text": [
      "               Avg_Daily_Usage_Hours  Sleep_Hours_Per_Night  \\\n",
      "Risk_Category                                                 \n",
      "Low                         4.918723               6.868936   \n",
      "Medium                           NaN                    NaN   \n",
      "High                             NaN                    NaN   \n",
      "\n",
      "               Mental_Health_Score  \n",
      "Risk_Category                       \n",
      "Low                        6.22695  \n",
      "Medium                         NaN  \n",
      "High                           NaN  \n"
     ]
    },
    {
     "name": "stderr",
     "output_type": "stream",
     "text": [
      "C:\\Users\\user\\AppData\\Local\\Temp\\ipykernel_5944\\338145943.py:7: FutureWarning: The default of observed=False is deprecated and will be changed to True in a future version of pandas. Pass observed=False to retain current behavior or observed=True to adopt the future default and silence this warning.\n",
      "  risk_summary = df.groupby('Risk_Category')[['Avg_Daily_Usage_Hours','Sleep_Hours_Per_Night','Mental_Health_Score']].mean()\n"
     ]
    }
   ],
   "source": [
    "# Create a simple risk score (example: weighted sum)\n",
    "df['Risk_Score'] = df['Addicted_Score']*0.5 + df['Conflicts_Over_Social_Media']*0.3 + df['Affects_Academic_Performance'].apply(lambda x: 20 if x=='Yes' else 0)\n",
    "\n",
    "# Risk category\n",
    "df['Risk_Category'] = pd.cut(df['Risk_Score'], bins=[0,30,60,100], labels=[\"Low\",\"Medium\",\"High\"])\n",
    "\n",
    "risk_summary = df.groupby('Risk_Category')[['Avg_Daily_Usage_Hours','Sleep_Hours_Per_Night','Mental_Health_Score']].mean()\n",
    "print(risk_summary)\n",
    "\n",
    "\n",
    "risk_summary = df.groupby(\n",
    "    'Risk_Category',\n",
    "    observed=True\n",
    ")[['Avg_Daily_Usage_Hours','Sleep_Hours_Per_Night','Mental_Health_Score']].mean()\n"
   ]
  },
  {
   "cell_type": "code",
   "execution_count": 107,
   "id": "a6a8ee11-62af-4571-9404-8fe5c464fd72",
   "metadata": {},
   "outputs": [
    {
     "name": "stdout",
     "output_type": "stream",
     "text": [
      "         Addicted_Score  Avg_Daily_Usage_Hours  Sleep_Hours_Per_Night  \\\n",
      "Cluster                                                                 \n",
      "0              4.740214               3.839858               7.820285   \n",
      "1              8.241758               6.475824               5.581868   \n",
      "2              7.049587               5.000413               6.732231   \n",
      "\n",
      "         Mental_Health_Score  \n",
      "Cluster                       \n",
      "0                   7.380783  \n",
      "1                   4.978022  \n",
      "2                   5.826446  \n"
     ]
    },
    {
     "name": "stderr",
     "output_type": "stream",
     "text": [
      "C:\\Users\\user\\anaconda3\\Lib\\site-packages\\sklearn\\cluster\\_kmeans.py:1429: UserWarning: KMeans is known to have a memory leak on Windows with MKL, when there are less chunks than available threads. You can avoid it by setting the environment variable OMP_NUM_THREADS=3.\n",
      "  warnings.warn(\n"
     ]
    }
   ],
   "source": [
    "from sklearn.preprocessing import StandardScaler\n",
    "from sklearn.cluster import KMeans\n",
    "\n",
    "# Select numeric features\n",
    "X = df[['Addicted_Score','Avg_Daily_Usage_Hours','Sleep_Hours_Per_Night','Mental_Health_Score']]\n",
    "\n",
    "# Standardize\n",
    "X_scaled = StandardScaler().fit_transform(X)\n",
    "\n",
    "# KMeans clustering (3 clusters example)\n",
    "kmeans = KMeans(n_clusters=3, random_state=42)\n",
    "df['Cluster'] = kmeans.fit_predict(X_scaled)\n",
    "\n",
    "# Analyze clusters\n",
    "cluster_summary = df.groupby('Cluster')[['Addicted_Score','Avg_Daily_Usage_Hours','Sleep_Hours_Per_Night','Mental_Health_Score']].mean()\n",
    "print(cluster_summary)\n",
    "\n",
    "\n",
    "kmeans = KMeans(n_clusters=3, n_init='auto', random_state=42)\n",
    "import warnings\n",
    "warnings.filterwarnings(\"ignore\", category=UserWarning)\n"
   ]
  },
  {
   "cell_type": "code",
   "execution_count": null,
   "id": "930c94b9-af4b-485e-a96f-7139544f541d",
   "metadata": {},
   "outputs": [],
   "source": [
    "# 📱 Social Media Usage & Impact Analysis\n",
    "\n",
    "---\n",
    "\n",
    "## 📌 Project Overview\n",
    "This project explores the impact of social media usage on **students' academic performance, sleep, mental health, and relationships**.  \n",
    "The dataset includes **Age, Gender, Academic Level, Country, Usage Hours, Platform, Sleep Hours, Mental Health Score, Addiction Score, and Conflicts**.\n",
    "\n",
    "---\n",
    "\n",
    "## 🔑 Key Findings\n",
    "\n",
    "### 👥 Demographics\n",
    "- **Age 18–21** students show the **highest addiction scores** and **daily usage**.\n",
    "- Younger students also report **more conflicts** over social media.\n",
    "\n",
    "### 📲 Platforms\n",
    "- **Most Addictive:** WhatsApp (7.46), Snapchat (7.46), TikTok (7.42).  \n",
    "- **Affects Study the Most:** TikTok (93%), Snapchat (92%), Instagram (69%).  \n",
    "- **Highest Daily Usage:** WhatsApp users spend **6.5 hrs/day**.  \n",
    "- **Lowest Impact:** LinkedIn and LINE show minimal addiction & conflicts.\n",
    "\n",
    "### 🎓 Academics\n",
    "- Students who say academics are affected have an **addiction score of 7.46 vs 4.59** for unaffected students.  \n",
    "- **High School students** are the most addicted (8.03), followed by Undergraduates (6.49).\n",
    "\n",
    "### 😴 Sleep & Health\n",
    "- **Strong negative correlation** between social media usage and sleep (–0.79).  \n",
    "- **High addiction = lower sleep = lower mental health.**  \n",
    "- Students sleeping **<5 hours** show the **highest addiction scores**.\n",
    "\n",
    "### 🧠 Mental Health\n",
    "- Addiction and mental health have a **very strong negative correlation (–0.94)**.  \n",
    "- Students with low mental health scores spend the **most time online**.\n",
    "\n",
    "### 👩 Gender & ❤️ Relationships\n",
    "- Females show **slightly higher addiction** (6.51 vs 6.35).  \n",
    "- **Complicated relationship** status shows the **highest addiction (7.03)** and **conflicts**.  \n",
    "- Singles and students \"in a relationship\" have similar average daily usage (~4.9 hrs).\n",
    "\n",
    "### 🌍 Country Trends\n",
    "- Countries with highest addiction scores (~9): **Liechtenstein, Czech Republic, Armenia, Lebanon, Ecuador**.  \n",
    "- **Switzerland, Denmark, Netherlands** report the **longest sleep (8+ hrs)**.  \n",
    "- Platform preferences are regional: **LINE in Japan**, **WeChat in China**, **Instagram globally**.\n",
    "\n",
    "### 🔎 Clustering Insights\n",
    "Using **KMeans clustering** (3 clusters):\n",
    "- **Cluster 0 – Balanced Users:** Low addiction, good sleep, high mental health.  \n",
    "- **Cluster 1 – Heavy Addicts:** Highest addiction, longest usage (6.5 hrs), poor sleep & lowest mental health.  \n",
    "- **Cluster 2 – Moderate Users:** Mid-level addiction, fair sleep, average mental health.\n",
    "\n",
    "---\n",
    "\n",
    "## 📊 Insights\n",
    "\n",
    "- Students with **>6 hrs daily usage** face the **highest risk** of poor sleep and low mental health.  \n",
    "- **Platform choice matters**: TikTok/Snapchat users are most academically affected, LinkedIn/LINE least.  \n",
    "- **Sleep hours** are a strong predictor of **academic performance and addiction**.  \n",
    "- **Relationship stress** correlates with higher conflicts and addiction.  \n",
    "- Certain countries show extreme addiction, highlighting **regional differences**.\n",
    "\n",
    "---\n",
    "\n",
    "## ✅ Recommendations\n",
    "\n",
    "1. **📢 Awareness Programs**\n",
    "   - Focus on **high-risk platforms** (TikTok, Snapchat, WhatsApp).  \n",
    "   - Promote **healthy digital habits** and **sleep hygiene** among students.\n",
    "\n",
    "2. **🏫 Institutional Support**\n",
    "   - Monitor students with **excessive usage (>5 hrs/day)** as early risk indicators.  \n",
    "   - Organize workshops on **time management** and **digital detox strategies**.\n",
    "\n",
    "3. **💡 Mental Health Interventions**\n",
    "   - Provide counseling for students with **low mental health + high addiction**.  \n",
    "   - Encourage offline hobbies, sports, and group activities.\n",
    "\n",
    "4. **👨‍👩‍👦 Policy & Parental Guidance**\n",
    "   - Parents/teachers should guide **younger students (18–21)** about responsible use.  \n",
    "   - Reduce **late-night usage** to improve sleep and academic focus.\n",
    "\n",
    "5. **🔬 Further Research**\n",
    "   - Explore **country-specific trends** for tailored solutions.  \n",
    "   - Use clustering results to design **personalized awareness campaigns**.\n",
    "\n",
    "---\n",
    "\n",
    "## 🏁 Conclusion\n",
    "This analysis confirms that **social media addiction strongly affects students’ sleep, mental health, and academic performance**.  \n",
    "Balanced use, better sleep, and platform awareness are critical to improving student well-being.  \n",
    "\n",
    "---\n"
   ]
  }
 ],
 "metadata": {
  "kernelspec": {
   "display_name": "Python 3 (ipykernel)",
   "language": "python",
   "name": "python3"
  },
  "language_info": {
   "codemirror_mode": {
    "name": "ipython",
    "version": 3
   },
   "file_extension": ".py",
   "mimetype": "text/x-python",
   "name": "python",
   "nbconvert_exporter": "python",
   "pygments_lexer": "ipython3",
   "version": "3.12.7"
  }
 },
 "nbformat": 4,
 "nbformat_minor": 5
}
